{
 "cells": [
  {
   "cell_type": "code",
   "execution_count": 2,
   "metadata": {},
   "outputs": [],
   "source": [
    "import os\n",
    "\n",
    "os.chdir('D:/TTS_Trainer/')\n"
   ]
  },
  {
   "cell_type": "code",
   "execution_count": 11,
   "metadata": {},
   "outputs": [
    {
     "name": "stdout",
     "output_type": "stream",
     "text": [
      "Requirement already satisfied: pip in d:\\tts_trainer\\.conda\\lib\\site-packages (23.1.2)\n",
      "Requirement already satisfied: matplotlib in d:\\tts_trainer\\.conda\\lib\\site-packages (3.7.1)\n",
      "Requirement already satisfied: torch in d:\\tts_trainer\\.conda\\lib\\site-packages (2.0.1)\n",
      "Requirement already satisfied: lws in d:\\tts_trainer\\.conda\\lib\\site-packages (1.2.7)\n",
      "Collecting synthesis\n",
      "  Using cached synthesis-1.1061.tar.gz (629 kB)\n",
      "Note: you may need to restart the kernel to use updated packages.\n"
     ]
    },
    {
     "name": "stderr",
     "output_type": "stream",
     "text": [
      "ERROR: Could not install packages due to an OSError: [Errno 22] Invalid argument: 'D:\\\\Ironman\\\\Temp\\\\pip-install-g9azrc5w\\\\synthesis_3b04ca8b00964977ba62dd50ff178582\\\\synthesis/failed_files/OCC_2010-12-08_21:14:31.668651_unencrypted.xml'\n",
      "\n"
     ]
    },
    {
     "name": "stdout",
     "output_type": "stream",
     "text": [
      "Requirement already satisfied: hparams in d:\\tts_trainer\\.conda\\lib\\site-packages (0.3.0)\n",
      "Requirement already satisfied: typeguard in d:\\tts_trainer\\.conda\\lib\\site-packages (from hparams) (4.0.0)\n",
      "Requirement already satisfied: importlib-metadata>=3.6 in d:\\tts_trainer\\.conda\\lib\\site-packages (from typeguard->hparams) (6.6.0)\n",
      "Requirement already satisfied: typing-extensions>=4.4.0 in d:\\tts_trainer\\.conda\\lib\\site-packages (from typeguard->hparams) (4.6.3)\n",
      "Requirement already satisfied: zipp>=0.5 in d:\\tts_trainer\\.conda\\lib\\site-packages (from importlib-metadata>=3.6->typeguard->hparams) (3.15.0)\n",
      "Note: you may need to restart the kernel to use updated packages.\n",
      "Note: you may need to restart the kernel to use updated packages.\n"
     ]
    },
    {
     "name": "stderr",
     "output_type": "stream",
     "text": [
      "  error: subprocess-exited-with-error\n",
      "  \n",
      "  × python setup.py bdist_wheel did not run successfully.\n",
      "  │ exit code: 1\n",
      "  ╰─> [47 lines of output]\n",
      "      running bdist_wheel\n",
      "      running build\n",
      "      running build_ext\n",
      "      building 'lws' extension\n",
      "      creating build\n",
      "      creating build\\temp.win-amd64-cpython-38\n",
      "      creating build\\temp.win-amd64-cpython-38\\Release\n",
      "      creating build\\temp.win-amd64-cpython-38\\Release\\lwslib\n",
      "      \"C:\\Program Files (x86)\\Microsoft Visual Studio\\2019\\BuildTools\\VC\\Tools\\MSVC\\14.29.30133\\bin\\HostX86\\x64\\cl.exe\" /c /nologo /O2 /W3 /GL /DNDEBUG /MD -Ilwslib/ -Id:\\TTS_Trainer\\.conda\\lib\\site-packages\\numpy\\core\\include -Id:\\TTS_Trainer\\.conda\\include -Id:\\TTS_Trainer\\.conda\\Include \"-IC:\\Program Files (x86)\\Microsoft Visual Studio\\2019\\BuildTools\\VC\\Tools\\MSVC\\14.29.30133\\include\" \"-IC:\\Program Files (x86)\\Windows Kits\\10\\include\\10.0.19041.0\\ucrt\" \"-IC:\\Program Files (x86)\\Windows Kits\\10\\include\\10.0.19041.0\\shared\" \"-IC:\\Program Files (x86)\\Windows Kits\\10\\include\\10.0.19041.0\\um\" \"-IC:\\Program Files (x86)\\Windows Kits\\10\\include\\10.0.19041.0\\winrt\" \"-IC:\\Program Files (x86)\\Windows Kits\\10\\include\\10.0.19041.0\\cppwinrt\" /EHsc /Tplws.bycython.cpp /Fobuild\\temp.win-amd64-cpython-38\\Release\\lws.bycython.obj -O3\n",
      "      cl : Command line warning D9002 : ignoring unknown option '-O3'\n",
      "      lws.bycython.cpp\n",
      "      d:\\TTS_Trainer\\.conda\\lib\\site-packages\\numpy\\core\\include\\numpy\\npy_1_7_deprecated_api.h(14) : Warning Msg: Using deprecated NumPy API, disable it with #define NPY_NO_DEPRECATED_API NPY_1_7_API_VERSION\n",
      "      lws.bycython.cpp(9380): warning C4244: '=': conversion from 'Py_ssize_t' to 'int', possible loss of data\n",
      "      lws.bycython.cpp(10975): warning C4244: '=': conversion from 'Py_ssize_t' to 'int', possible loss of data\n",
      "      lws.bycython.cpp(12652): warning C4244: '=': conversion from 'Py_ssize_t' to 'int', possible loss of data\n",
      "      lws.bycython.cpp(22287): error C2197: 'PyObject *(__cdecl *)(PyObject *,PyObject *const *,Py_ssize_t)': too many arguments for call\n",
      "      lws.bycython.cpp(24208): error C2039: 'exc_type': is not a member of '_ts'\n",
      "      d:\\TTS_Trainer\\.conda\\include\\cpython/pystate.h(51): note: see declaration of '_ts'\n",
      "      lws.bycython.cpp(24209): error C2039: 'exc_value': is not a member of '_ts'\n",
      "      d:\\TTS_Trainer\\.conda\\include\\cpython/pystate.h(51): note: see declaration of '_ts'\n",
      "      lws.bycython.cpp(24210): error C2039: 'exc_traceback': is not a member of '_ts'\n",
      "      d:\\TTS_Trainer\\.conda\\include\\cpython/pystate.h(51): note: see declaration of '_ts'\n",
      "      lws.bycython.cpp(24217): error C2039: 'exc_type': is not a member of '_ts'\n",
      "      d:\\TTS_Trainer\\.conda\\include\\cpython/pystate.h(51): note: see declaration of '_ts'\n",
      "      lws.bycython.cpp(24218): error C2039: 'exc_value': is not a member of '_ts'\n",
      "      d:\\TTS_Trainer\\.conda\\include\\cpython/pystate.h(51): note: see declaration of '_ts'\n",
      "      lws.bycython.cpp(24219): error C2039: 'exc_traceback': is not a member of '_ts'\n",
      "      d:\\TTS_Trainer\\.conda\\include\\cpython/pystate.h(51): note: see declaration of '_ts'\n",
      "      lws.bycython.cpp(24220): error C2039: 'exc_type': is not a member of '_ts'\n",
      "      d:\\TTS_Trainer\\.conda\\include\\cpython/pystate.h(51): note: see declaration of '_ts'\n",
      "      lws.bycython.cpp(24221): error C2039: 'exc_value': is not a member of '_ts'\n",
      "      d:\\TTS_Trainer\\.conda\\include\\cpython/pystate.h(51): note: see declaration of '_ts'\n",
      "      lws.bycython.cpp(24222): error C2039: 'exc_traceback': is not a member of '_ts'\n",
      "      d:\\TTS_Trainer\\.conda\\include\\cpython/pystate.h(51): note: see declaration of '_ts'\n",
      "      lws.bycython.cpp(24277): error C2039: 'exc_type': is not a member of '_ts'\n",
      "      d:\\TTS_Trainer\\.conda\\include\\cpython/pystate.h(51): note: see declaration of '_ts'\n",
      "      lws.bycython.cpp(24278): error C2039: 'exc_value': is not a member of '_ts'\n",
      "      d:\\TTS_Trainer\\.conda\\include\\cpython/pystate.h(51): note: see declaration of '_ts'\n",
      "      lws.bycython.cpp(24279): error C2039: 'exc_traceback': is not a member of '_ts'\n",
      "      d:\\TTS_Trainer\\.conda\\include\\cpython/pystate.h(51): note: see declaration of '_ts'\n",
      "      lws.bycython.cpp(24280): error C2039: 'exc_type': is not a member of '_ts'\n",
      "      d:\\TTS_Trainer\\.conda\\include\\cpython/pystate.h(51): note: see declaration of '_ts'\n",
      "      lws.bycython.cpp(24281): error C2039: 'exc_value': is not a member of '_ts'\n",
      "      d:\\TTS_Trainer\\.conda\\include\\cpython/pystate.h(51): note: see declaration of '_ts'\n",
      "      lws.bycython.cpp(24282): error C2039: 'exc_traceback': is not a member of '_ts'\n",
      "      d:\\TTS_Trainer\\.conda\\include\\cpython/pystate.h(51): note: see declaration of '_ts'\n",
      "      error: command 'C:\\\\Program Files (x86)\\\\Microsoft Visual Studio\\\\2019\\\\BuildTools\\\\VC\\\\Tools\\\\MSVC\\\\14.29.30133\\\\bin\\\\HostX86\\\\x64\\\\cl.exe' failed with exit code 2\n",
      "      [end of output]\n",
      "  \n",
      "  note: This error originates from a subprocess, and is likely not a problem with pip.\n",
      "  ERROR: Failed building wheel for lws\n",
      "ERROR: Could not build wheels for lws, which is required to install pyproject.toml-based projects\n"
     ]
    },
    {
     "name": "stdout",
     "output_type": "stream",
     "text": [
      "Note: you may need to restart the kernel to use updated packages.\n"
     ]
    },
    {
     "name": "stderr",
     "output_type": "stream",
     "text": [
      "ERROR: Could not find a version that satisfies the requirement vs_buildtools (from versions: none)\n",
      "ERROR: No matching distribution found for vs_buildtools\n"
     ]
    },
    {
     "name": "stdout",
     "output_type": "stream",
     "text": [
      "Requirement already satisfied: librosa in d:\\tts_trainer\\.conda\\lib\\site-packages (0.10.0.post2)\n",
      "Requirement already satisfied: nltk in d:\\tts_trainer\\.conda\\lib\\site-packages (3.8.1)\n",
      "Requirement already satisfied: audioread>=2.1.9 in d:\\tts_trainer\\.conda\\lib\\site-packages (from librosa) (3.0.0)\n",
      "Requirement already satisfied: numpy!=1.22.0,!=1.22.1,!=1.22.2,>=1.20.3 in d:\\tts_trainer\\.conda\\lib\\site-packages (from librosa) (1.24.3)\n",
      "Requirement already satisfied: scipy>=1.2.0 in d:\\tts_trainer\\.conda\\lib\\site-packages (from librosa) (1.10.1)\n",
      "Requirement already satisfied: scikit-learn>=0.20.0 in d:\\tts_trainer\\.conda\\lib\\site-packages (from librosa) (1.2.2)\n",
      "Requirement already satisfied: joblib>=0.14 in d:\\tts_trainer\\.conda\\lib\\site-packages (from librosa) (1.2.0)\n",
      "Requirement already satisfied: decorator>=4.3.0 in d:\\tts_trainer\\.conda\\lib\\site-packages (from librosa) (5.1.1)\n",
      "Requirement already satisfied: numba>=0.51.0 in d:\\tts_trainer\\.conda\\lib\\site-packages (from librosa) (0.57.0)\n",
      "Requirement already satisfied: soundfile>=0.12.1 in d:\\tts_trainer\\.conda\\lib\\site-packages (from librosa) (0.12.1)\n",
      "Requirement already satisfied: pooch<1.7,>=1.0 in d:\\tts_trainer\\.conda\\lib\\site-packages (from librosa) (1.6.0)\n",
      "Requirement already satisfied: soxr>=0.3.2 in d:\\tts_trainer\\.conda\\lib\\site-packages (from librosa) (0.3.5)\n",
      "Requirement already satisfied: typing-extensions>=4.1.1 in d:\\tts_trainer\\.conda\\lib\\site-packages (from librosa) (4.6.3)\n",
      "Requirement already satisfied: lazy-loader>=0.1 in d:\\tts_trainer\\.conda\\lib\\site-packages (from librosa) (0.2)\n",
      "Requirement already satisfied: msgpack>=1.0 in d:\\tts_trainer\\.conda\\lib\\site-packages (from librosa) (1.0.5)\n",
      "Requirement already satisfied: click in d:\\tts_trainer\\.conda\\lib\\site-packages (from nltk) (8.1.3)\n",
      "Requirement already satisfied: regex>=2021.8.3 in d:\\tts_trainer\\.conda\\lib\\site-packages (from nltk) (2023.6.3)\n",
      "Requirement already satisfied: tqdm in d:\\tts_trainer\\.conda\\lib\\site-packages (from nltk) (4.65.0)\n",
      "Requirement already satisfied: llvmlite<0.41,>=0.40.0dev0 in d:\\tts_trainer\\.conda\\lib\\site-packages (from numba>=0.51.0->librosa) (0.40.0)\n",
      "Requirement already satisfied: importlib-metadata in d:\\tts_trainer\\.conda\\lib\\site-packages (from numba>=0.51.0->librosa) (6.6.0)\n",
      "Requirement already satisfied: appdirs>=1.3.0 in d:\\tts_trainer\\.conda\\lib\\site-packages (from pooch<1.7,>=1.0->librosa) (1.4.4)\n",
      "Requirement already satisfied: packaging>=20.0 in d:\\tts_trainer\\.conda\\lib\\site-packages (from pooch<1.7,>=1.0->librosa) (23.1)\n",
      "Requirement already satisfied: requests>=2.19.0 in d:\\tts_trainer\\.conda\\lib\\site-packages (from pooch<1.7,>=1.0->librosa) (2.31.0)\n",
      "Requirement already satisfied: threadpoolctl>=2.0.0 in d:\\tts_trainer\\.conda\\lib\\site-packages (from scikit-learn>=0.20.0->librosa) (3.1.0)\n",
      "Requirement already satisfied: cffi>=1.0 in d:\\tts_trainer\\.conda\\lib\\site-packages (from soundfile>=0.12.1->librosa) (1.15.1)\n",
      "Requirement already satisfied: colorama in d:\\tts_trainer\\.conda\\lib\\site-packages (from click->nltk) (0.4.6)\n",
      "Requirement already satisfied: pycparser in d:\\tts_trainer\\.conda\\lib\\site-packages (from cffi>=1.0->soundfile>=0.12.1->librosa) (2.21)\n",
      "Requirement already satisfied: charset-normalizer<4,>=2 in d:\\tts_trainer\\.conda\\lib\\site-packages (from requests>=2.19.0->pooch<1.7,>=1.0->librosa) (3.1.0)\n",
      "Requirement already satisfied: idna<4,>=2.5 in d:\\tts_trainer\\.conda\\lib\\site-packages (from requests>=2.19.0->pooch<1.7,>=1.0->librosa) (3.4)\n",
      "Requirement already satisfied: urllib3<3,>=1.21.1 in d:\\tts_trainer\\.conda\\lib\\site-packages (from requests>=2.19.0->pooch<1.7,>=1.0->librosa) (2.0.2)\n",
      "Requirement already satisfied: certifi>=2017.4.17 in d:\\tts_trainer\\.conda\\lib\\site-packages (from requests>=2.19.0->pooch<1.7,>=1.0->librosa) (2023.5.7)\n",
      "Requirement already satisfied: zipp>=0.5 in d:\\tts_trainer\\.conda\\lib\\site-packages (from importlib-metadata->numba>=0.51.0->librosa) (3.15.0)\n",
      "Note: you may need to restart the kernel to use updated packages.\n"
     ]
    },
    {
     "name": "stderr",
     "output_type": "stream",
     "text": [
      "d:\\TTS_Trainer\\.conda\\lib\\runpy.py:127: RuntimeWarning: 'nltk.downloader' found in sys.modules after import of package 'nltk', but prior to execution of 'nltk.downloader'; this may result in unpredictable behaviour\n",
      "  warn(RuntimeWarning(msg))\n",
      "[nltk_data] Downloading package cmudict to\n",
      "[nltk_data]     C:\\Users\\ironman\\AppData\\Roaming\\nltk_data...\n",
      "[nltk_data]   Package cmudict is already up-to-date!\n"
     ]
    }
   ],
   "source": [
    "import os\n",
    "from os.path import exists, join, expanduser\n",
    "\n",
    "!python -m pip install --upgrade pip\n",
    "\n",
    "# Clone Deepvoice3_pytorch\n",
    "name = \"deepvoice3_pytorch\" \n",
    "if not exists(\"./\" + name):\n",
    "  ! git clone https://github.com/r9y9/$name\n",
    "\n",
    "os.chdir('D:/TTS_Trainer/deepvoice3_pytorch/')\n",
    "!git checkout 7a10ac6763eda92595e257543494b6a95f64229b --quiet\n",
    "\n",
    "os.chdir('D:/TTS_Trainer/')\n",
    "\n",
    "# Install dependencices\n",
    "%pip install --upgrade matplotlib torch lws synthesis train \n",
    "%pip install --upgrade hparams\n",
    "%pip install -q \"D:/TTS_Trainer/deepvoice3_pytorch/\"\n",
    "%pip install vs_buildtools tensorflow\n",
    "\n",
    "%matplotlib inline\n",
    "%pip install librosa nltk\n",
    "\n",
    "import torch\n",
    "import numpy as np\n",
    "import librosa\n",
    "import librosa.display\n",
    "import IPython\n",
    "from IPython.display import Audio\n",
    "# need this for English text processing frontend\n",
    "import nltk \n",
    "!python -m nltk.downloader cmudict\n",
    "\n",
    "preset = \"test/20180505_deepvoice3_ljspeech.json\"\n",
    "checkpoint_path = \"test/checkpoint_1062000.pth\"\n",
    "\n",
    "# if not exists(preset):\n",
    "#   !curl -O -L \"https://www.dropbox.com/s/0ck82unm0bo0rxd/20180505_deepvoice3_ljspeech.json\"\n",
    "# if not exists(checkpoint_path):\n",
    "#   !curl -O -L \"https://www.dropbox.com/s/5ucl9remrwy5oeg/20180505_deepvoice3_checkpoint_step000640000.pth\""
   ]
  },
  {
   "cell_type": "code",
   "execution_count": 13,
   "metadata": {},
   "outputs": [
    {
     "ename": "AttributeError",
     "evalue": "module 'hparams.hparams' has no attribute 'parse_json'",
     "output_type": "error",
     "traceback": [
      "\u001b[1;31m---------------------------------------------------------------------------\u001b[0m",
      "\u001b[1;31mAttributeError\u001b[0m                            Traceback (most recent call last)",
      "Cell \u001b[1;32mIn[13], line 7\u001b[0m\n\u001b[0;32m      5\u001b[0m \u001b[39m# Load parameters from preset\u001b[39;00m\n\u001b[0;32m      6\u001b[0m \u001b[39mwith\u001b[39;00m \u001b[39mopen\u001b[39m(preset) \u001b[39mas\u001b[39;00m f:\n\u001b[1;32m----> 7\u001b[0m   hparams\u001b[39m.\u001b[39;49mhparams\u001b[39m.\u001b[39;49mparse_json(f\u001b[39m.\u001b[39mread())\n\u001b[0;32m      9\u001b[0m \u001b[39m# Inject frontend text processor\u001b[39;00m\n\u001b[0;32m     10\u001b[0m \u001b[39mimport\u001b[39;00m \u001b[39msynthesis\u001b[39;00m\n",
      "\u001b[1;31mAttributeError\u001b[0m: module 'hparams.hparams' has no attribute 'parse_json'"
     ]
    }
   ],
   "source": [
    "import hparams\n",
    "import json\n",
    "\n",
    "    \n",
    "# Load parameters from preset\n",
    "with open(preset) as f:\n",
    "  hparams.hparams.parse_json(f.read())\n",
    "  \n",
    "# Inject frontend text processor\n",
    "import synthesis\n",
    "import train\n",
    "from deepvoice3_pytorch import frontend\n",
    "synthesis._frontend = getattr(frontend, \"en\")\n",
    "train._frontend =  getattr(frontend, \"en\")\n",
    "\n",
    "# alises\n",
    "fs = hparams.hparams.sample_rate\n",
    "hop_length = hparams.hparams.hop_size\n",
    "\n",
    "def tts(model, text, p=0, speaker_id=None, fast=True, figures=True):\n",
    "  from synthesis import tts as _tts\n",
    "  waveform, alignment, spectrogram, mel = _tts(model, text, p, speaker_id, fast)\n",
    "  if figures:\n",
    "      visualize(alignment, spectrogram)\n",
    "  IPython.display.display(Audio(waveform, rate=fs))\n",
    "  \n",
    "def visualize(alignment, spectrogram):\n",
    "  label_fontsize = 16\n",
    "  figure(figsize=(16,16))\n",
    "\n",
    "  subplot(2,1,1)\n",
    "  imshow(alignment.T, aspect=\"auto\", origin=\"lower\", interpolation=None)\n",
    "  xlabel(\"Decoder timestamp\", fontsize=label_fontsize)\n",
    "  ylabel(\"Encoder timestamp\", fontsize=label_fontsize)\n",
    "  colorbar()\n",
    "\n",
    "  subplot(2,1,2)\n",
    "  librosa.display.specshow(spectrogram.T, sr=fs, \n",
    "                           hop_length=hop_length, x_axis=\"time\", y_axis=\"linear\")\n",
    "  xlabel(\"Time\", fontsize=label_fontsize)\n",
    "  ylabel(\"Hz\", fontsize=label_fontsize)\n",
    "  tight_layout()\n",
    "  colorbar()"
   ]
  },
  {
   "cell_type": "code",
   "execution_count": null,
   "metadata": {},
   "outputs": [],
   "source": [
    "from train import build_model\n",
    "from train import restore_parts, load_checkpoint\n",
    "\n",
    "model = build_model()\n",
    "model = load_checkpoint(checkpoint_path, model, None, True)"
   ]
  },
  {
   "cell_type": "code",
   "execution_count": null,
   "metadata": {},
   "outputs": [],
   "source": [
    "# Try your favorite senteneces:)\n",
    "texts = [\n",
    "    \"Scientists at the CERN laboratory say they have discovered a new particle.\",\n",
    "    \"There's a way to measure the acute emotional intelligence that has never gone out of style.\",\n",
    "    \"President Trump met with other leaders at the Group of 20 conference.\",\n",
    "    \"The Senate's bill to repeal and replace the Affordable Care Act is now imperiled.\",\n",
    "    \"Generative adversarial network or variational auto-encoder.\",\n",
    "    \"The buses aren't the problem, they actually provide a solution.\",\n",
    "    \"peter piper picked a peck of pickled peppers how many peppers did peter piper pick.\",\n",
    "    \"Some have accepted this as a miracle without any physical explanation.\",\n",
    "]\n",
    "\n",
    "for idx, text in enumerate(texts):\n",
    "  print(idx, text)\n",
    "  tts(model, text, figures=False)"
   ]
  },
  {
   "cell_type": "code",
   "execution_count": null,
   "metadata": {},
   "outputs": [],
   "source": [
    "# With attention plot\n",
    "text = \"Generative adversarial network or variational auto-encoder.\"\n",
    "tts(model, text, figures=True)"
   ]
  }
 ],
 "metadata": {
  "kernelspec": {
   "display_name": "Python 3",
   "language": "python",
   "name": "python3"
  },
  "language_info": {
   "codemirror_mode": {
    "name": "ipython",
    "version": 3
   },
   "file_extension": ".py",
   "mimetype": "text/x-python",
   "name": "python",
   "nbconvert_exporter": "python",
   "pygments_lexer": "ipython3",
   "version": "3.8.16"
  },
  "orig_nbformat": 4
 },
 "nbformat": 4,
 "nbformat_minor": 2
}
